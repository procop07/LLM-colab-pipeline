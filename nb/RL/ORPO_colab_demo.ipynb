{
  "nbformat": 4,
  "nbformat_minor": 0,
  "metadata": {
    "colab": {
      "provenance": [],
      "gpuType": "T4",
      "machine_shape": "hm"
    },
    "kernelspec": {
      "name": "python3",
      "display_name": "Python 3"
    },
    "language_info": {
      "name": "python"
    },
    "accelerator": "GPU"
  },
  "cells": [
    {
      "cell_type": "markdown",
      "metadata": {
        "id": "header"
      },
      "source": [
        "# ORPO (Odds Ratio Preference Optimization) Training Demo\n",
        "\n",
        "This notebook demonstrates ORPO, a reference-model-free alignment method.\n",
        "\n",
        "**Key Features:**\n",
        "- No reference model required\n",
        "- Memory efficient\n",
        "- Combines SFT and preference optimization\n",
        "- Single-stage training process"
      ]
    },
    {
      "cell_type": "code",
      "execution_count": null,
      "metadata": {
        "id": "install"
      },
      "outputs": [],
      "source": [
        "# Install required packages\n",
        "!pip install -q transformers datasets torch accelerate\n",
        "!pip install -q trl peft bitsandbytes\n",
        "\n",
        "import torch\n",
        "from transformers import AutoModelForCausalLM, AutoTokenizer, TrainingArguments\n",
        "from trl import ORPOTrainer, ORPOConfig\n",
        "from datasets import Dataset\n",
        "import pandas as pd"
      ]
    },
    {
      "cell_type": "code",
      "execution_count": null,
      "metadata": {
        "id": "config"
      },
      "outputs": [],
      "source": [
        "# ORPO Configuration\n",
        "orpo_config = ORPOConfig(\n",
        "    model_name=\"microsoft/DialoGPT-medium\",\n",
        "    learning_rate=8e-6,\n",
        "    lr_scheduler_type=\"linear\",\n",
        "    warmup_steps=10,\n",
        "    max_length=512,\n",
        "    max_prompt_length=128,\n",
        "    beta=0.1,  # ORPO penalty coefficient\n",
        "    per_device_train_batch_size=1,\n",
        "    gradient_accumulation_steps=4,\n",
        "    num_train_epochs=1,\n",
        "    logging_steps=10,\n",
        "    save_steps=1000,\n",
        "    output_dir=\"./orpo-model\"\n",
        ")\n",
        "\n",
        "print(\"ORPO Configuration:\")\n",
        "print(f\"Model: {orpo_config.model_name}\")\n",
        "print(f\"Learning rate: {orpo_config.learning_rate}\")\n",
        "print(f\"Beta (penalty): {orpo_config.beta}\")\n",
        "print(f\"Max length: {orpo_config.max_length}\")"
      ]
    },
    {
      "cell_type": "code",
      "execution_count": null,
      "metadata": {
        "id": "load_model"
      },
      "outputs": [],
      "source": [
        "# Load model and tokenizer\n",
        "model = AutoModelForCausalLM.from_pretrained(orpo_config.model_name)\n",
        "tokenizer = AutoTokenizer.from_pretrained(orpo_config.model_name)\n",
        "\n",
        "if tokenizer.pad_token is None:\n",
        "    tokenizer.pad_token = tokenizer.eos_token\n",
        "\n",
        "print(f\"Model loaded: {orpo_config.model_name}\")\n",
        "print(f\"Parameters: {sum(p.numel() for p in model.parameters()):,}\")\n",
        "print(f\"Tokenizer vocab size: {len(tokenizer)}\")"
      ]
    },
    {
      "cell_type": "code",
      "execution_count": null,
      "metadata": {
        "id": "create_dataset"
      },
      "outputs": [],
      "source": [
        "# Create preference dataset for ORPO\n",
        "# ORPO requires: prompt, chosen (preferred), rejected (not preferred)\n",
        "preference_data = [\n",
        "    {\n",
        "        \"prompt\": \"Explain the importance of renewable energy\",\n",
        "        \"chosen\": \"Renewable energy is crucial for combating climate change, reducing pollution, and ensuring sustainable development for future generations.\",\n",
        "        \"rejected\": \"Renewable energy is just expensive and unreliable.\"\n",
        "    },\n",
        "    {\n",
        "        \"prompt\": \"What are the benefits of exercise?\",\n",
        "        \"chosen\": \"Regular exercise improves cardiovascular health, strengthens muscles, enhances mental well-being, and increases longevity.\",\n",
        "        \"rejected\": \"Exercise is just for losing weight.\"\n",
        "    },\n",
        "    {\n",
        "        \"prompt\": \"Describe the role of education in society\",\n",
        "        \"chosen\": \"Education empowers individuals, promotes social mobility, drives innovation, and creates informed citizens who contribute to democratic society.\",\n",
        "        \"rejected\": \"Education is just about memorizing facts.\"\n",
        "    }\n",
        "]\n",
        "\n",
        "# Convert to dataset\n",
        "dataset = Dataset.from_pandas(pd.DataFrame(preference_data))\n",
        "print(f\"Dataset size: {len(dataset)}\")\n",
        "print(f\"Sample example: {dataset[0]}\")"
      ]
    },
    {
      "cell_type": "code",
      "execution_count": null,
      "metadata": {
        "id": "orpo_training"
      },
      "outputs": [],
      "source": [
        "# Initialize ORPO trainer\n",
        "trainer = ORPOTrainer(\n",
        "    model=model,\n",
        "    args=orpo_config,\n",
        "    tokenizer=tokenizer,\n",
        "    train_dataset=dataset,\n",
        ")\n",
        "\n",
        "print(\"Starting ORPO training...\")\n",
        "\n",
        "# Train the model\n",
        "trainer.train()\n",
        "\n",
        "print(\"ORPO training completed!\")\n",
        "\n",
        "# Test the trained model\n",
        "test_prompts = [\n",
        "    \"What is the future of technology?\",\n",
        "    \"How can we protect the environment?\",\n",
        "    \"What makes a good leader?\"\n",
        "]\n",
        "\n",
        "print(\"\\nTesting the trained model:\")\n",
        "for prompt in test_prompts:\n",
        "    inputs = tokenizer(prompt, return_tensors=\"pt\")\n",
        "    \n",
        "    with torch.no_grad():\n",
        "        outputs = model.generate(\n",
        "            **inputs,\n",
        "            max_length=inputs[\"input_ids\"].shape[1] + 50,\n",
        "            do_sample=True,\n",
        "            temperature=0.7,\n",
        "            top_p=0.9,\n",
        "            pad_token_id=tokenizer.eos_token_id\n",
        "        )\n",
        "    \n",
        "    generated_text = tokenizer.decode(outputs[0], skip_special_tokens=True)\n",
        "    print(f\"\\nPrompt: {prompt}\")\n",
        "    print(f\"Generated: {generated_text}\")"
      ]
    }
  ]
}
