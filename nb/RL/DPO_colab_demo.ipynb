{
  "nbformat": 4,
  "nbformat_minor": 0,
  "metadata": {
    "colab": {
      "provenance": [],
      "gpuType": "T4",
      "machine_shape": "hm"
    },
    "kernelspec": {
      "name": "python3",
      "display_name": "Python 3"
    },
    "language_info": {
      "name": "python"
    },
    "accelerator": "GPU"
  },
  "cells": [
    {
      "cell_type": "markdown",
      "metadata": {
        "id": "header"
      },
      "source": [
        "# DPO (Direct Preference Optimization) Training Demo\n",
        "\n",
        "This notebook demonstrates Direct Preference Optimization, a simpler alternative to RLHF.\n",
        "\n",
        "**Key Features:**\n",
        "- Direct optimization without reward model\n",
        "- Preference-based training\n",
        "- Stable training process\n",
        "- Memory efficient"
      ]
    },
    {
      "cell_type": "code",
      "execution_count": null,
      "metadata": {
        "id": "install"
      },
      "outputs": [],
      "source": [
        "# Install required packages\n",
        "!pip install -q transformers datasets torch accelerate\n",
        "!pip install -q trl peft bitsandbytes\n",
        "\n",
        "import torch\n",
        "from transformers import AutoModelForCausalLM, AutoTokenizer, TrainingArguments\n",
        "from trl import DPOTrainer\n",
        "from datasets import Dataset\n",
        "import pandas as pd"
      ]
    },
    {
      "cell_type": "code",
      "execution_count": null,
      "metadata": {
        "id": "load_model"
      },
      "outputs": [],
      "source": [
        "# Load model and tokenizer\n",
        "model_name = \"microsoft/DialoGPT-medium\"\n",
        "\n",
        "model = AutoModelForCausalLM.from_pretrained(model_name)\n",
        "tokenizer = AutoTokenizer.from_pretrained(model_name)\n",
        "\n",
        "if tokenizer.pad_token is None:\n",
        "    tokenizer.pad_token = tokenizer.eos_token\n",
        "\n",
        "print(f\"Model loaded: {model_name}\")\n",
        "print(f\"Parameters: {sum(p.numel() for p in model.parameters()):,}\")"
      ]
    },
    {
      "cell_type": "code",
      "execution_count": null,
      "metadata": {
        "id": "create_dataset"
      },
      "outputs": [],
      "source": [
        "# Create preference dataset\n",
        "# Each example has: prompt, chosen (preferred), rejected (not preferred)\n",
        "preference_data = [\n",
        "    {\n",
        "        \"prompt\": \"Explain quantum computing\",\n",
        "        \"chosen\": \"Quantum computing uses quantum mechanical phenomena like superposition and entanglement to perform computations.\",\n",
        "        \"rejected\": \"Quantum computing is just faster computers.\"\n",
        "    },\n",
        "    {\n",
        "        \"prompt\": \"What is machine learning?\",\n",
        "        \"chosen\": \"Machine learning is a subset of AI that enables computers to learn patterns from data without explicit programming.\",\n",
        "        \"rejected\": \"Machine learning is robots thinking.\"\n",
        "    },\n",
        "    {\n",
        "        \"prompt\": \"How do neural networks work?\",\n",
        "        \"chosen\": \"Neural networks consist of interconnected nodes that process information through weighted connections, mimicking brain structure.\",\n",
        "        \"rejected\": \"Neural networks are just computer brains.\"\n",
        "    }\n",
        "]\n",
        "\n",
        "# Convert to dataset\n",
        "dataset = Dataset.from_pandas(pd.DataFrame(preference_data))\n",
        "print(f\"Dataset size: {len(dataset)}\")\n",
        "print(f\"Sample: {dataset[0]}\")"
      ]
    },
    {
      "cell_type": "code",
      "execution_count": null,
      "metadata": {
        "id": "training_args"
      },
      "outputs": [],
      "source": [
        "# Training arguments\n",
        "training_args = TrainingArguments(\n",
        "    output_dir=\"./dpo-model\",\n",
        "    num_train_epochs=1,\n",
        "    per_device_train_batch_size=1,\n",
        "    gradient_accumulation_steps=4,\n",
        "    learning_rate=5e-7,\n",
        "    logging_steps=10,\n",
        "    save_strategy=\"no\",\n",
        "    evaluation_strategy=\"no\",\n",
        "    warmup_steps=10,\n",
        "    bf16=True,\n",
        "    remove_unused_columns=False,\n",
        ")\n",
        "\n",
        "print(\"Training configuration:\")\n",
        "print(f\"Epochs: {training_args.num_train_epochs}\")\n",
        "print(f\"Learning rate: {training_args.learning_rate}\")\n",
        "print(f\"Batch size: {training_args.per_device_train_batch_size}\")"
      ]
    },
    {
      "cell_type": "code",
      "execution_count": null,
      "metadata": {
        "id": "dpo_training"
      },
      "outputs": [],
      "source": [
        "# Initialize DPO trainer\n",
        "dpo_trainer = DPOTrainer(\n",
        "    model=model,\n",
        "    args=training_args,\n",
        "    tokenizer=tokenizer,\n",
        "    train_dataset=dataset,\n",
        "    beta=0.1,  # DPO temperature parameter\n",
        "    max_length=512,\n",
        "    max_prompt_length=128,\n",
        ")\n",
        "\n",
        "print(\"Starting DPO training...\")\n",
        "\n",
        "# Train the model\n",
        "dpo_trainer.train()\n",
        "\n",
        "print(\"DPO training completed!\")\n",
        "\n",
        "# Test the trained model\n",
        "test_prompt = \"What is artificial intelligence?\"\n",
        "inputs = tokenizer(test_prompt, return_tensors=\"pt\")\n",
        "\n",
        "with torch.no_grad():\n",
        "    outputs = model.generate(\n",
        "        **inputs,\n",
        "        max_length=inputs[\"input_ids\"].shape[1] + 50,\n",
        "        do_sample=True,\n",
        "        temperature=0.7,\n",
        "        pad_token_id=tokenizer.eos_token_id\n",
        "    )\n",
        "\n",
        "generated_text = tokenizer.decode(outputs[0], skip_special_tokens=True)\n",
        "print(f\"Prompt: {test_prompt}\")\n",
        "print(f\"Generated: {generated_text}\")"
      ]
    }
  ]
}
